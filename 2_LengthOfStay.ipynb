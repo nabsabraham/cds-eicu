{
  "nbformat": 4,
  "nbformat_minor": 0,
  "metadata": {
    "colab": {
      "name": "2_LengthOfStay.ipynb",
      "provenance": [],
      "authorship_tag": "ABX9TyNbJkLJdmxkLz/YyALa1Sw8",
      "include_colab_link": true
    },
    "kernelspec": {
      "name": "python3",
      "display_name": "Python 3"
    }
  },
  "cells": [
    {
      "cell_type": "markdown",
      "metadata": {
        "id": "view-in-github",
        "colab_type": "text"
      },
      "source": [
        "<a href=\"https://colab.research.google.com/github/nabsabraham/cds-eicu/blob/master/2_LengthOfStay.ipynb\" target=\"_parent\"><img src=\"https://colab.research.google.com/assets/colab-badge.svg\" alt=\"Open In Colab\"/></a>"
      ]
    },
    {
      "cell_type": "code",
      "metadata": {
        "id": "QxXwPtb-nt9j",
        "colab_type": "code",
        "outputId": "dca9a7e7-b543-4124-a979-a4b6379b5315",
        "colab": {
          "base_uri": "https://localhost:8080/",
          "height": 51
        }
      },
      "source": [
        "import os\n",
        "import numpy as np\n",
        "import pandas as pd\n",
        "import matplotlib.pyplot as plt\n",
        "import seaborn as sns\n",
        "sns.set()\n",
        "\n",
        "# Access data using Google BigQuery.\n",
        "from google.colab import auth\n",
        "from google.cloud import bigquery"
      ],
      "execution_count": 0,
      "outputs": [
        {
          "output_type": "stream",
          "text": [
            "/usr/local/lib/python3.6/dist-packages/statsmodels/tools/_testing.py:19: FutureWarning: pandas.util.testing is deprecated. Use the functions in the public API at pandas.testing instead.\n",
            "  import pandas.util.testing as tm\n"
          ],
          "name": "stderr"
        }
      ]
    },
    {
      "cell_type": "code",
      "metadata": {
        "id": "j3qmrhkmoAR-",
        "colab_type": "code",
        "colab": {}
      },
      "source": [
        "auth.authenticate_user()"
      ],
      "execution_count": 0,
      "outputs": []
    },
    {
      "cell_type": "code",
      "metadata": {
        "id": "XGJJBF-PoFIE",
        "colab_type": "code",
        "colab": {}
      },
      "source": [
        "project_id='eicu-275721'"
      ],
      "execution_count": 0,
      "outputs": []
    },
    {
      "cell_type": "code",
      "metadata": {
        "id": "gvlmiX9TILCk",
        "colab_type": "code",
        "colab": {}
      },
      "source": [
        "%%bigquery --project $project_id los\n",
        "select patienthealthsystemstayid, gender, unitdischargetime24, unitadmittime24, (hospitaldischargeoffset-hospitaladmitoffset)/60/24 AS totalstay\n",
        "from `physionet-data.eicu_crd.patient` "
      ],
      "execution_count": 0,
      "outputs": []
    },
    {
      "cell_type": "code",
      "metadata": {
        "id": "0j3SSgNBO5jf",
        "colab_type": "code",
        "outputId": "c2101821-3478-4771-ca44-7b22cb8f4319",
        "colab": {
          "base_uri": "https://localhost:8080/",
          "height": 34
        }
      },
      "source": [
        "stay = los['totalstay'].mean()\n",
        "print(f' Average length of stay in ICU = {stay:.2f} days')"
      ],
      "execution_count": 0,
      "outputs": [
        {
          "output_type": "stream",
          "text": [
            " Average length of stay in ICU = 8.42 days\n"
          ],
          "name": "stdout"
        }
      ]
    },
    {
      "cell_type": "code",
      "metadata": {
        "id": "XpALLv17QjPG",
        "colab_type": "code",
        "outputId": "d7f478dc-2f5e-495a-a2a6-d71c99045b5e",
        "colab": {
          "base_uri": "https://localhost:8080/",
          "height": 204
        }
      },
      "source": [
        "los.head()"
      ],
      "execution_count": 0,
      "outputs": [
        {
          "output_type": "execute_result",
          "data": {
            "text/html": [
              "<div>\n",
              "<style scoped>\n",
              "    .dataframe tbody tr th:only-of-type {\n",
              "        vertical-align: middle;\n",
              "    }\n",
              "\n",
              "    .dataframe tbody tr th {\n",
              "        vertical-align: top;\n",
              "    }\n",
              "\n",
              "    .dataframe thead th {\n",
              "        text-align: right;\n",
              "    }\n",
              "</style>\n",
              "<table border=\"1\" class=\"dataframe\">\n",
              "  <thead>\n",
              "    <tr style=\"text-align: right;\">\n",
              "      <th></th>\n",
              "      <th>patienthealthsystemstayid</th>\n",
              "      <th>gender</th>\n",
              "      <th>unitdischargetime24</th>\n",
              "      <th>unitadmittime24</th>\n",
              "      <th>totalstay</th>\n",
              "    </tr>\n",
              "  </thead>\n",
              "  <tbody>\n",
              "    <tr>\n",
              "      <th>0</th>\n",
              "      <td>1561557</td>\n",
              "      <td></td>\n",
              "      <td>16:52:00</td>\n",
              "      <td>23:02:00</td>\n",
              "      <td>0.743056</td>\n",
              "    </tr>\n",
              "    <tr>\n",
              "      <th>1</th>\n",
              "      <td>138099</td>\n",
              "      <td></td>\n",
              "      <td>15:20:00</td>\n",
              "      <td>13:06:00</td>\n",
              "      <td>0.093056</td>\n",
              "    </tr>\n",
              "    <tr>\n",
              "      <th>2</th>\n",
              "      <td>146319</td>\n",
              "      <td></td>\n",
              "      <td>20:58:00</td>\n",
              "      <td>20:01:00</td>\n",
              "      <td>1.040278</td>\n",
              "    </tr>\n",
              "    <tr>\n",
              "      <th>3</th>\n",
              "      <td>140591</td>\n",
              "      <td>Unknown</td>\n",
              "      <td>16:04:00</td>\n",
              "      <td>15:57:00</td>\n",
              "      <td>0.178472</td>\n",
              "    </tr>\n",
              "    <tr>\n",
              "      <th>4</th>\n",
              "      <td>159767</td>\n",
              "      <td></td>\n",
              "      <td>16:52:00</td>\n",
              "      <td>16:50:00</td>\n",
              "      <td>1.002083</td>\n",
              "    </tr>\n",
              "  </tbody>\n",
              "</table>\n",
              "</div>"
            ],
            "text/plain": [
              "   patienthealthsystemstayid   gender  ... unitadmittime24 totalstay\n",
              "0                    1561557           ...        23:02:00  0.743056\n",
              "1                     138099           ...        13:06:00  0.093056\n",
              "2                     146319           ...        20:01:00  1.040278\n",
              "3                     140591  Unknown  ...        15:57:00  0.178472\n",
              "4                     159767           ...        16:50:00  1.002083\n",
              "\n",
              "[5 rows x 5 columns]"
            ]
          },
          "metadata": {
            "tags": []
          },
          "execution_count": 6
        }
      ]
    },
    {
      "cell_type": "code",
      "metadata": {
        "id": "u31fgBSuQjMT",
        "colab_type": "code",
        "colab": {}
      },
      "source": [
        "male_los = los[los['gender']=='Male']\n",
        "female_los = los[los['gender']=='Female']"
      ],
      "execution_count": 0,
      "outputs": []
    },
    {
      "cell_type": "code",
      "metadata": {
        "id": "DeCD0EQhQjJh",
        "colab_type": "code",
        "outputId": "545f329d-3663-494d-ca65-7e26429a2cdd",
        "colab": {
          "base_uri": "https://localhost:8080/",
          "height": 34
        }
      },
      "source": [
        "lst = list(np.round((male_los['totalstay'].values),0))\n",
        "male_mode_los = max(set(lst), key=lst.count)\n",
        "print(f'Mode length of stay for females was ~{male_mode_los} days')"
      ],
      "execution_count": 0,
      "outputs": [
        {
          "output_type": "execute_result",
          "data": {
            "text/plain": [
              "2.0"
            ]
          },
          "metadata": {
            "tags": []
          },
          "execution_count": 115
        }
      ]
    },
    {
      "cell_type": "code",
      "metadata": {
        "id": "iSEt5_VRQi-z",
        "colab_type": "code",
        "outputId": "f20a3955-70c7-46f2-f3b9-8680e4663634",
        "colab": {
          "base_uri": "https://localhost:8080/",
          "height": 34
        }
      },
      "source": [
        "lst = list(np.round((female_los['totalstay'].values),0))\n",
        "female_mode_los = max(set(lst), key=lst.count)\n",
        "print(f'Mode length of stay for females was ~{female_mode_los} days')"
      ],
      "execution_count": 0,
      "outputs": [
        {
          "output_type": "execute_result",
          "data": {
            "text/plain": [
              "3.0"
            ]
          },
          "metadata": {
            "tags": []
          },
          "execution_count": 120
        }
      ]
    },
    {
      "cell_type": "code",
      "metadata": {
        "id": "hXFiXeRnPBpe",
        "colab_type": "code",
        "colab": {}
      },
      "source": [
        "%%bigquery --project $project_id df\n",
        "select patienthealthsystemstayid, apacheadmissiondx as diag, hospitaldischargestatus as status, unitdischargetime24, unitadmittime24, (hospitaldischargeoffset-hospitaladmitoffset)/60/24 AS totalstayindays\n",
        "\n",
        "from `physionet-data.eicu_crd.patient` \n",
        "#WHERE apacheadmissiondx like '%Cardiac%' "
      ],
      "execution_count": 0,
      "outputs": []
    },
    {
      "cell_type": "code",
      "metadata": {
        "id": "169kbuZjl_PQ",
        "colab_type": "code",
        "outputId": "d8db1954-5267-4ed2-c678-d2fb2fb1ca3b",
        "colab": {
          "base_uri": "https://localhost:8080/",
          "height": 204
        }
      },
      "source": [
        "cardiac_df = df[df['diag'].str.contains('Cardiac arrest')]\n",
        "cardiac_df.head()"
      ],
      "execution_count": 0,
      "outputs": [
        {
          "output_type": "execute_result",
          "data": {
            "text/html": [
              "<div>\n",
              "<style scoped>\n",
              "    .dataframe tbody tr th:only-of-type {\n",
              "        vertical-align: middle;\n",
              "    }\n",
              "\n",
              "    .dataframe tbody tr th {\n",
              "        vertical-align: top;\n",
              "    }\n",
              "\n",
              "    .dataframe thead th {\n",
              "        text-align: right;\n",
              "    }\n",
              "</style>\n",
              "<table border=\"1\" class=\"dataframe\">\n",
              "  <thead>\n",
              "    <tr style=\"text-align: right;\">\n",
              "      <th></th>\n",
              "      <th>patienthealthsystemstayid</th>\n",
              "      <th>diag</th>\n",
              "      <th>status</th>\n",
              "      <th>unitdischargetime24</th>\n",
              "      <th>unitadmittime24</th>\n",
              "      <th>totalstayindays</th>\n",
              "    </tr>\n",
              "  </thead>\n",
              "  <tbody>\n",
              "    <tr>\n",
              "      <th>193377</th>\n",
              "      <td>2565533</td>\n",
              "      <td>Cardiac arrest (with or without respiratory ar...</td>\n",
              "      <td>Expired</td>\n",
              "      <td>16:21:00</td>\n",
              "      <td>15:56:00</td>\n",
              "      <td>14.572917</td>\n",
              "    </tr>\n",
              "    <tr>\n",
              "      <th>193378</th>\n",
              "      <td>2562455</td>\n",
              "      <td>Cardiac arrest (with or without respiratory ar...</td>\n",
              "      <td>Expired</td>\n",
              "      <td>19:05:00</td>\n",
              "      <td>05:45:00</td>\n",
              "      <td>0.623611</td>\n",
              "    </tr>\n",
              "    <tr>\n",
              "      <th>193379</th>\n",
              "      <td>392776</td>\n",
              "      <td>Cardiac arrest (with or without respiratory ar...</td>\n",
              "      <td>Expired</td>\n",
              "      <td>18:06:00</td>\n",
              "      <td>17:19:00</td>\n",
              "      <td>4.483333</td>\n",
              "    </tr>\n",
              "    <tr>\n",
              "      <th>193380</th>\n",
              "      <td>1766940</td>\n",
              "      <td>Cardiac arrest (with or without respiratory ar...</td>\n",
              "      <td>Alive</td>\n",
              "      <td>20:10:00</td>\n",
              "      <td>11:36:00</td>\n",
              "      <td>13.696528</td>\n",
              "    </tr>\n",
              "    <tr>\n",
              "      <th>193381</th>\n",
              "      <td>2603720</td>\n",
              "      <td>Cardiac arrest (with or without respiratory ar...</td>\n",
              "      <td>Expired</td>\n",
              "      <td>13:45:00</td>\n",
              "      <td>13:25:00</td>\n",
              "      <td>6.097917</td>\n",
              "    </tr>\n",
              "  </tbody>\n",
              "</table>\n",
              "</div>"
            ],
            "text/plain": [
              "        patienthealthsystemstayid  ... totalstayindays\n",
              "193377                    2565533  ...       14.572917\n",
              "193378                    2562455  ...        0.623611\n",
              "193379                     392776  ...        4.483333\n",
              "193380                    1766940  ...       13.696528\n",
              "193381                    2603720  ...        6.097917\n",
              "\n",
              "[5 rows x 6 columns]"
            ]
          },
          "metadata": {
            "tags": []
          },
          "execution_count": 14
        }
      ]
    },
    {
      "cell_type": "code",
      "metadata": {
        "id": "z_-tI7a8l2JM",
        "colab_type": "code",
        "outputId": "53fc0a0f-926e-444a-b054-869561ba4fac",
        "colab": {
          "base_uri": "https://localhost:8080/",
          "height": 204
        }
      },
      "source": [
        "sepsis_df = df[df['diag'].str.contains('Sep')]\n",
        "sepsis_df.head()"
      ],
      "execution_count": 0,
      "outputs": [
        {
          "output_type": "execute_result",
          "data": {
            "text/html": [
              "<div>\n",
              "<style scoped>\n",
              "    .dataframe tbody tr th:only-of-type {\n",
              "        vertical-align: middle;\n",
              "    }\n",
              "\n",
              "    .dataframe tbody tr th {\n",
              "        vertical-align: top;\n",
              "    }\n",
              "\n",
              "    .dataframe thead th {\n",
              "        text-align: right;\n",
              "    }\n",
              "</style>\n",
              "<table border=\"1\" class=\"dataframe\">\n",
              "  <thead>\n",
              "    <tr style=\"text-align: right;\">\n",
              "      <th></th>\n",
              "      <th>patienthealthsystemstayid</th>\n",
              "      <th>diag</th>\n",
              "      <th>status</th>\n",
              "      <th>unitdischargetime24</th>\n",
              "      <th>unitadmittime24</th>\n",
              "      <th>totalstayindays</th>\n",
              "    </tr>\n",
              "  </thead>\n",
              "  <tbody>\n",
              "    <tr>\n",
              "      <th>2511</th>\n",
              "      <td>2470411</td>\n",
              "      <td>Sepsis, gynecologic</td>\n",
              "      <td>Alive</td>\n",
              "      <td>18:03:00</td>\n",
              "      <td>00:32:00</td>\n",
              "      <td>12.555556</td>\n",
              "    </tr>\n",
              "    <tr>\n",
              "      <th>2892</th>\n",
              "      <td>391296</td>\n",
              "      <td>Sepsis, gynecologic</td>\n",
              "      <td>Alive</td>\n",
              "      <td>03:40:00</td>\n",
              "      <td>00:56:00</td>\n",
              "      <td>36.292361</td>\n",
              "    </tr>\n",
              "    <tr>\n",
              "      <th>3170</th>\n",
              "      <td>2592598</td>\n",
              "      <td>Sepsis, gynecologic</td>\n",
              "      <td>Expired</td>\n",
              "      <td>07:47:00</td>\n",
              "      <td>13:00:00</td>\n",
              "      <td>12.684028</td>\n",
              "    </tr>\n",
              "    <tr>\n",
              "      <th>3331</th>\n",
              "      <td>1034258</td>\n",
              "      <td>Sepsis, gynecologic</td>\n",
              "      <td>Alive</td>\n",
              "      <td>02:21:00</td>\n",
              "      <td>17:45:00</td>\n",
              "      <td>13.784722</td>\n",
              "    </tr>\n",
              "    <tr>\n",
              "      <th>3388</th>\n",
              "      <td>362728</td>\n",
              "      <td>Sepsis, gynecologic</td>\n",
              "      <td>Alive</td>\n",
              "      <td>12:31:00</td>\n",
              "      <td>14:52:00</td>\n",
              "      <td>0.996528</td>\n",
              "    </tr>\n",
              "  </tbody>\n",
              "</table>\n",
              "</div>"
            ],
            "text/plain": [
              "      patienthealthsystemstayid  ... totalstayindays\n",
              "2511                    2470411  ...       12.555556\n",
              "2892                     391296  ...       36.292361\n",
              "3170                    2592598  ...       12.684028\n",
              "3331                    1034258  ...       13.784722\n",
              "3388                     362728  ...        0.996528\n",
              "\n",
              "[5 rows x 6 columns]"
            ]
          },
          "metadata": {
            "tags": []
          },
          "execution_count": 19
        }
      ]
    },
    {
      "cell_type": "code",
      "metadata": {
        "id": "wUoYS_aUxwrA",
        "colab_type": "code",
        "outputId": "6e3bf765-8c52-4cc8-b8a0-484d3f796122",
        "colab": {
          "base_uri": "https://localhost:8080/",
          "height": 419
        }
      },
      "source": [
        "\n",
        "df"
      ],
      "execution_count": 0,
      "outputs": [
        {
          "output_type": "execute_result",
          "data": {
            "text/html": [
              "<div>\n",
              "<style scoped>\n",
              "    .dataframe tbody tr th:only-of-type {\n",
              "        vertical-align: middle;\n",
              "    }\n",
              "\n",
              "    .dataframe tbody tr th {\n",
              "        vertical-align: top;\n",
              "    }\n",
              "\n",
              "    .dataframe thead th {\n",
              "        text-align: right;\n",
              "    }\n",
              "</style>\n",
              "<table border=\"1\" class=\"dataframe\">\n",
              "  <thead>\n",
              "    <tr style=\"text-align: right;\">\n",
              "      <th></th>\n",
              "      <th>patienthealthsystemstayid</th>\n",
              "      <th>diag</th>\n",
              "      <th>status</th>\n",
              "      <th>unitdischargetime24</th>\n",
              "      <th>unitadmittime24</th>\n",
              "      <th>totalstayindays</th>\n",
              "    </tr>\n",
              "  </thead>\n",
              "  <tbody>\n",
              "    <tr>\n",
              "      <th>0</th>\n",
              "      <td>2462651</td>\n",
              "      <td>Cardiovascular medical, other</td>\n",
              "      <td>Alive</td>\n",
              "      <td>23:38:00</td>\n",
              "      <td>23:38:00</td>\n",
              "      <td>10.098611</td>\n",
              "    </tr>\n",
              "    <tr>\n",
              "      <th>1</th>\n",
              "      <td>2497834</td>\n",
              "      <td>ARDS-adult respiratory distress syndrome, non-...</td>\n",
              "      <td>Expired</td>\n",
              "      <td>01:32:00</td>\n",
              "      <td>01:32:00</td>\n",
              "      <td>0.193750</td>\n",
              "    </tr>\n",
              "    <tr>\n",
              "      <th>2</th>\n",
              "      <td>412624</td>\n",
              "      <td>Pneumonia, other</td>\n",
              "      <td>Alive</td>\n",
              "      <td>19:09:00</td>\n",
              "      <td>14:55:00</td>\n",
              "      <td>3.318750</td>\n",
              "    </tr>\n",
              "    <tr>\n",
              "      <th>3</th>\n",
              "      <td>2468727</td>\n",
              "      <td>Abdomen only trauma</td>\n",
              "      <td>Alive</td>\n",
              "      <td>09:02:00</td>\n",
              "      <td>09:02:00</td>\n",
              "      <td>4.712500</td>\n",
              "    </tr>\n",
              "    <tr>\n",
              "      <th>4</th>\n",
              "      <td>2540143</td>\n",
              "      <td>Liver transplant</td>\n",
              "      <td>Alive</td>\n",
              "      <td>22:59:00</td>\n",
              "      <td>22:59:00</td>\n",
              "      <td>33.602778</td>\n",
              "    </tr>\n",
              "    <tr>\n",
              "      <th>...</th>\n",
              "      <td>...</td>\n",
              "      <td>...</td>\n",
              "      <td>...</td>\n",
              "      <td>...</td>\n",
              "      <td>...</td>\n",
              "      <td>...</td>\n",
              "    </tr>\n",
              "    <tr>\n",
              "      <th>200854</th>\n",
              "      <td>856103</td>\n",
              "      <td>Coma/change in level of consciousness (for hep...</td>\n",
              "      <td>Alive</td>\n",
              "      <td>00:36:00</td>\n",
              "      <td>22:22:00</td>\n",
              "      <td>3.347222</td>\n",
              "    </tr>\n",
              "    <tr>\n",
              "      <th>200855</th>\n",
              "      <td>883832</td>\n",
              "      <td>Coma/change in level of consciousness (for hep...</td>\n",
              "      <td>Alive</td>\n",
              "      <td>21:35:00</td>\n",
              "      <td>00:27:00</td>\n",
              "      <td>5.850694</td>\n",
              "    </tr>\n",
              "    <tr>\n",
              "      <th>200856</th>\n",
              "      <td>900291</td>\n",
              "      <td>Coma/change in level of consciousness (for hep...</td>\n",
              "      <td>Alive</td>\n",
              "      <td>15:38:00</td>\n",
              "      <td>16:48:00</td>\n",
              "      <td>1.020139</td>\n",
              "    </tr>\n",
              "    <tr>\n",
              "      <th>200857</th>\n",
              "      <td>2451831</td>\n",
              "      <td>Coma/change in level of consciousness (for hep...</td>\n",
              "      <td>Expired</td>\n",
              "      <td>23:00:00</td>\n",
              "      <td>04:41:00</td>\n",
              "      <td>26.475694</td>\n",
              "    </tr>\n",
              "    <tr>\n",
              "      <th>200858</th>\n",
              "      <td>1661752</td>\n",
              "      <td>Coma/change in level of consciousness (for hep...</td>\n",
              "      <td>Expired</td>\n",
              "      <td>20:40:00</td>\n",
              "      <td>22:33:00</td>\n",
              "      <td>10.400694</td>\n",
              "    </tr>\n",
              "  </tbody>\n",
              "</table>\n",
              "<p>200859 rows × 6 columns</p>\n",
              "</div>"
            ],
            "text/plain": [
              "        patienthealthsystemstayid  ... totalstayindays\n",
              "0                         2462651  ...       10.098611\n",
              "1                         2497834  ...        0.193750\n",
              "2                          412624  ...        3.318750\n",
              "3                         2468727  ...        4.712500\n",
              "4                         2540143  ...       33.602778\n",
              "...                           ...  ...             ...\n",
              "200854                     856103  ...        3.347222\n",
              "200855                     883832  ...        5.850694\n",
              "200856                     900291  ...        1.020139\n",
              "200857                    2451831  ...       26.475694\n",
              "200858                    1661752  ...       10.400694\n",
              "\n",
              "[200859 rows x 6 columns]"
            ]
          },
          "metadata": {
            "tags": []
          },
          "execution_count": 18
        }
      ]
    },
    {
      "cell_type": "code",
      "metadata": {
        "id": "k0jtHHSPx1mq",
        "colab_type": "code",
        "colab": {}
      },
      "source": [
        ""
      ],
      "execution_count": 0,
      "outputs": []
    }
  ]
}